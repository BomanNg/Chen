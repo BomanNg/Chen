{
 "cells": [
  {
   "cell_type": "code",
   "execution_count": 1,
   "metadata": {},
   "outputs": [],
   "source": [
    "from openai import OpenAI\n",
    "import numpy as np\n",
    "import json\n",
    "import os\n",
    "from pathlib import Path"
   ]
  },
  {
   "cell_type": "code",
   "execution_count": 2,
   "metadata": {},
   "outputs": [],
   "source": [
    "envFile = Path(\".local.env\")\n",
    "with open(envFile) as f:\n",
    "    for line in f:\n",
    "        key, value = line.strip().split(\"=\", 1)\n",
    "        os.environ[key] = value\n",
    "\n",
    "configFile = Path(\"config.json\")\n",
    "with open(configFile, \"r\") as file:\n",
    "    CONFIG = json.load(file)"
   ]
  },
  {
   "cell_type": "code",
   "execution_count": 3,
   "metadata": {},
   "outputs": [],
   "source": [
    "SYSTEM = \"system\"\n",
    "ASSISTANT = \"assistant\"\n",
    "USER = \"user\"\n",
    "\n",
    "OPENAI_API_KEY = os.environ.get(\"OPENAI_API_KEY\", None)\n",
    "\n",
    "if OPENAI_API_KEY is not None:\n",
    "    client = OpenAI(api_key=os.environ.get(\"OPENAI_API_KEY\", None))\n",
    "else:\n",
    "    ValueError(\"No OpenAI API key found.\")"
   ]
  },
  {
   "cell_type": "code",
   "execution_count": 4,
   "metadata": {},
   "outputs": [],
   "source": [
    "templateFile = Path(\"template.json\")\n",
    "\n",
    "with open(templateFile, \"r\") as file:\n",
    "    template = json.load(file)"
   ]
  },
  {
   "cell_type": "code",
   "execution_count": 5,
   "metadata": {},
   "outputs": [],
   "source": [
    "userInput = \"The wet lab of Synthetic biology.\""
   ]
  },
  {
   "cell_type": "code",
   "execution_count": 6,
   "metadata": {},
   "outputs": [],
   "source": [
    "corpusTemp = template.get(\"CorpusTemp\")\n",
    "\n",
    "getCorpusMess = [\n",
    "        {\"role\": SYSTEM, \"content\": corpusTemp.get(SYSTEM).format(coverage=CONFIG.get('coverage'))},\n",
    "        {\"role\": USER, \"content\": corpusTemp.get(USER).format(input=userInput)}    \n",
    "]\n",
    "corpusComp = client.chat.completions.create(\n",
    "    messages=getCorpusMess,\n",
    "    **CONFIG.get(\"completion\", None)\n",
    ")"
   ]
  },
  {
   "cell_type": "code",
   "execution_count": 7,
   "metadata": {},
   "outputs": [],
   "source": [
    "corpus = json.loads(corpusComp.choices[0].message.content.replace(\"\\n\", \"\"))[\"corpus\"]"
   ]
  },
  {
   "cell_type": "code",
   "execution_count": 8,
   "metadata": {},
   "outputs": [
    {
     "name": "stdout",
     "output_type": "stream",
     "text": [
      "['pipettes', 'centrifuge', 'microscope', 'petri dishes', 'agar', 'incubator', 'DNA sequencer', 'autoclave', 'biohazard', 'gloves', 'spectrophotometer', 'electrophoresis', 'PCR machine', 'nucleotides', 'plasmids', 'restriction enzymes', 'ligase', 'transformation', 'colonies', 'sterile technique', 'culture media', 'bioreactor', 'gene synthesis', 'proteins', 'amino acids', 'cell culture', 'genetic engineering', 'lab notebook', 'bioinformatics', 'chassis organism', 'gene editing', 'CRISPR-Cas9', 'gel documentation system', 'fluorescence microscope', 'biosafety cabinet', 'laminar flow hood', 'growth curve', 'microtiter plates', 'assay', 'biomolecules', 'synthetic gene circuits', 'gene expression', 'transcription', 'translation', 'recombinant DNA', 'molecular cloning', 'genotype', 'phenotype', 'biochemical pathways', 'metabolic engineering', 'protein folding', 'enzyme kinetics', 'cell lysis', 'chromatography', 'mass spectrometry', 'nanodrop', 'DNA library', 'RNA extraction', 'cDNA synthesis', 'primer design', 'gene promoter', 'reporter gene', 'selective markers', 'antibiotic resistance', 'gene knockout', 'mutagenesis', 'flow cytometry', 'bioethics', 'biosynthesis', 'synthetic vectors', 'bioprinting', 'biomaterials', 'bioengineering', 'fermentation', 'protein purification', 'immunoprecipitation', 'western blot', 'northern blot', 'southern blot', 'inducible promoters', 'operon system', 'gene silencing', 'RNA interference', 'gene therapy', 'bioluminescence', 'green fluorescent protein', 'cell-free systems', 'protein engineering', 'high-throughput screening', 'bioconjugation', 'phage display', 'synthetic organisms', 'biocatalysis', 'pathway optimization', 'genomic library', 'protein expression systems', 'vector construction', 'gene cloning', 'molecular markers', 'sequencing primers', 'transgenic models', 'bioactive compounds', 'metabolomics', 'proteomics', 'genomics', 'systems biology', 'biostatistics', 'computational modeling', 'gene networks', 'synthetic promoters', 'biosensors', 'environmental monitoring', 'bioremediation', 'biological safety', 'lab coats', 'fume hood', 'biochemical assays', 'cell viability tests', 'transfection', 'gene delivery', 'molecular diagnostics', 'biological standards', 'quality control', 'peer review', 'scientific publication', 'collaborative research', 'innovation in synthetic biology', 'ethical considerations in synthetic biology', 'regulatory compliance', 'patenting in biotechnology', 'public engagement in science', 'data analysis in synthetic biology', 'synthetic biology startups', 'funding for research', 'academic-industry partnerships', 'biological databases', 'genetic databases', 'protein databases', 'biological circuits']\n"
     ]
    }
   ],
   "source": [
    "print(corpus)"
   ]
  },
  {
   "cell_type": "code",
   "execution_count": 9,
   "metadata": {},
   "outputs": [
    {
     "name": "stdout",
     "output_type": "stream",
     "text": [
      "139\n"
     ]
    }
   ],
   "source": [
    "print(len(corpus))"
   ]
  },
  {
   "cell_type": "code",
   "execution_count": 10,
   "metadata": {},
   "outputs": [],
   "source": [
    "corEmbTemp = template.get(\"CorEmbTemp\")\n",
    "\n",
    "corpus_input = corEmbTemp.format(corpus=corpus, scenario=userInput)\n",
    "corpus_embed = client.embeddings.create(\n",
    "    input=corpus_input, **CONFIG.get(\"embedding\", None)\n",
    ")"
   ]
  },
  {
   "cell_type": "code",
   "execution_count": 11,
   "metadata": {},
   "outputs": [],
   "source": [
    "testTemp = template.get(\"TestTemp\")\n",
    "\n",
    "getTestMess = [\n",
    "    {\n",
    "        \"role\": SYSTEM,\n",
    "        \"content\": testTemp.get(SYSTEM).format(\n",
    "            pos_test=CONFIG.get(\"pos_test\", None), neg_test=CONFIG.get(\"neg_test\", None)\n",
    "        ),\n",
    "    },\n",
    "    {\"role\": ASSISTANT, \"content\": testTemp.get(ASSISTANT).format(scenario=userInput)},\n",
    "]\n",
    "testComp = client.chat.completions.create(\n",
    "    messages=getTestMess, **CONFIG.get(\"completion\", None)\n",
    ")"
   ]
  },
  {
   "cell_type": "code",
   "execution_count": 12,
   "metadata": {},
   "outputs": [],
   "source": [
    "test = json.loads(testComp.choices[0].message.content)"
   ]
  },
  {
   "cell_type": "code",
   "execution_count": 13,
   "metadata": {},
   "outputs": [
    {
     "data": {
      "text/plain": [
       "{'related paragraphs': ['The wet lab of synthetic biology is a hive of activity, with researchers in lab coats moving between benches cluttered with petri dishes, microscopes, and bioreactors. The air is filled with a sense of purpose, as each experiment brings them closer to groundbreaking discoveries, from new forms of biofuel to synthetic organisms designed to tackle environmental challenges.',\n",
       "  'In the corner of the synthetic biology wet lab, a graduate student carefully pipettes a solution containing engineered DNA into a series of vials. The precision of her movements reflects the meticulous nature of genetic manipulation, where even a single misplaced nucleotide can alter the outcome of an experiment, potentially leading to revolutionary advancements in medicine or agriculture.',\n",
       "  'The hum of centrifuges blends with the occasional hiss of the autoclave in the synthetic biology wet lab. Scientists are engrossed in their work, analyzing data and adjusting parameters to optimize the expression of synthetic genes. The lab is a crucible where the building blocks of life are reshaped, offering a glimpse into a future where biology is as editable and programmable as a computer code.'],\n",
       " 'un-related paragraphs': ['The ancient library stood silent, a repository of knowledge with towering shelves lined with leather-bound tomes. Dust motes danced in the slanting sunlight that filtered through the stained-glass windows, each book a sentinel of history, waiting for a curious mind to unlock the secrets held within its pages.',\n",
       "  'On a windswept plain, a lone tree defied the elements, its gnarled branches reaching towards a stormy sky. It stood as a testament to resilience, its roots gripping the earth with steadfast determination, while the relentless wind sculpted its form into a natural work of art, a symbol of endurance in the face of adversity.',\n",
       "  'The bustling city market was a kaleidoscope of colors and sounds, with vendors calling out their wares and the aroma of exotic spices mingling with the scent of fresh flowers. People from all walks of life navigated through the crowded aisles, a microcosm of urban life where commerce and culture intersected in a vibrant dance of humanity.']}"
      ]
     },
     "execution_count": 13,
     "metadata": {},
     "output_type": "execute_result"
    }
   ],
   "source": [
    "test"
   ]
  },
  {
   "cell_type": "code",
   "execution_count": 14,
   "metadata": {},
   "outputs": [],
   "source": [
    "testEmbTemp = template.get(\"TestEmbTemp\")\n",
    "\n",
    "related_input = [\n",
    "    testEmbTemp.format(paragraph=paragraph) for paragraph in test[\"related paragraphs\"]\n",
    "]\n",
    "unrelated_input = [\n",
    "    testEmbTemp.format(paragraph=paragraph)\n",
    "    for paragraph in test[\"un-related paragraphs\"]\n",
    "]\n",
    "\n",
    "related_embed = client.embeddings.create(\n",
    "    input=related_input, **CONFIG.get(\"embedding\", None)\n",
    ")\n",
    "unrelated_embed = client.embeddings.create(\n",
    "    input=unrelated_input, **CONFIG.get(\"embedding\", None)\n",
    ")"
   ]
  },
  {
   "cell_type": "code",
   "execution_count": 15,
   "metadata": {},
   "outputs": [],
   "source": [
    "clsCore = np.matrix(corpus_embed.data[0].embedding)"
   ]
  },
  {
   "cell_type": "code",
   "execution_count": 16,
   "metadata": {},
   "outputs": [],
   "source": [
    "relatedEmbedMat = np.matrix([embed.embedding for embed in related_embed.data])\n",
    "unrelatedEmbedMat = np.matrix([embed.embedding for embed in unrelated_embed.data])"
   ]
  },
  {
   "cell_type": "code",
   "execution_count": 17,
   "metadata": {},
   "outputs": [
    {
     "data": {
      "text/plain": [
       "matrix([[0.49998493, 0.48861335, 0.49762327]])"
      ]
     },
     "execution_count": 17,
     "metadata": {},
     "output_type": "execute_result"
    }
   ],
   "source": [
    "clsCore * relatedEmbedMat.T / (\n",
    "    np.linalg.norm(clsCore) * np.linalg.norm(relatedEmbedMat)\n",
    ")"
   ]
  },
  {
   "cell_type": "code",
   "execution_count": 18,
   "metadata": {},
   "outputs": [
    {
     "data": {
      "text/plain": [
       "matrix([[0.42306624, 0.40011304, 0.41826684]])"
      ]
     },
     "execution_count": 18,
     "metadata": {},
     "output_type": "execute_result"
    }
   ],
   "source": [
    "clsCore * unrelatedEmbedMat.T / (\n",
    "    np.linalg.norm(clsCore) * np.linalg.norm(unrelatedEmbedMat)\n",
    ")"
   ]
  }
 ],
 "metadata": {
  "kernelspec": {
   "display_name": "chen",
   "language": "python",
   "name": "python3"
  },
  "language_info": {
   "codemirror_mode": {
    "name": "ipython",
    "version": 3
   },
   "file_extension": ".py",
   "mimetype": "text/x-python",
   "name": "python",
   "nbconvert_exporter": "python",
   "pygments_lexer": "ipython3",
   "version": "3.10.0"
  }
 },
 "nbformat": 4,
 "nbformat_minor": 2
}
